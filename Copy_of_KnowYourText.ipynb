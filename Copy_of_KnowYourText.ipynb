{
  "nbformat": 4,
  "nbformat_minor": 0,
  "metadata": {
    "colab": {
      "name": "Copy of KnowYourText.ipynb",
      "version": "0.3.2",
      "provenance": [],
      "collapsed_sections": [],
      "include_colab_link": true
    },
    "kernelspec": {
      "name": "python3",
      "display_name": "Python 3"
    }
  },
  "cells": [
    {
      "cell_type": "markdown",
      "metadata": {
        "id": "view-in-github",
        "colab_type": "text"
      },
      "source": [
        "<a href=\"https://colab.research.google.com/github/asksandipd/AIMLAssignments/blob/master/Copy_of_KnowYourText.ipynb\" target=\"_parent\"><img src=\"https://colab.research.google.com/assets/colab-badge.svg\" alt=\"Open In Colab\"/></a>"
      ]
    },
    {
      "cell_type": "markdown",
      "metadata": {
        "id": "F2JhdDe3h1q6",
        "colab_type": "text"
      },
      "source": [
        "# Advanced Certification in AIML\n",
        "## A Program by IIIT-H and TalentSprint"
      ]
    },
    {
      "cell_type": "markdown",
      "metadata": {
        "id": "I2jn2pheRFPU",
        "colab_type": "text"
      },
      "source": [
        "### The objective of this notebook is for you to explore a given text and answer the various curious elements about the text. Such as :\n",
        "\n",
        "\n",
        "1.   How many words the text might have?\n",
        "2.   How many sentences? \n",
        "3.   What is the average, shortest and longest sentence? What could be that sentence?\n",
        "4.   ...and so on\n",
        "\n"
      ]
    },
    {
      "cell_type": "code",
      "metadata": {
        "id": "mwuDuztTN363",
        "colab_type": "code",
        "colab": {}
      },
      "source": [
        "import nltk"
      ],
      "execution_count": 0,
      "outputs": []
    },
    {
      "cell_type": "code",
      "metadata": {
        "id": "SEwuVj5XOhJL",
        "colab_type": "code",
        "colab": {
          "base_uri": "https://localhost:8080/",
          "height": 102
        },
        "outputId": "17c7c8ce-7b38-451d-f59c-e11fde04f751"
      },
      "source": [
        "nltk.download('gutenberg')\n",
        "nltk.download('punkt')"
      ],
      "execution_count": 4,
      "outputs": [
        {
          "output_type": "stream",
          "text": [
            "[nltk_data] Downloading package gutenberg to /root/nltk_data...\n",
            "[nltk_data]   Package gutenberg is already up-to-date!\n",
            "[nltk_data] Downloading package punkt to /root/nltk_data...\n",
            "[nltk_data]   Package punkt is already up-to-date!\n"
          ],
          "name": "stdout"
        },
        {
          "output_type": "execute_result",
          "data": {
            "text/plain": [
              "True"
            ]
          },
          "metadata": {
            "tags": []
          },
          "execution_count": 4
        }
      ]
    },
    {
      "cell_type": "code",
      "metadata": {
        "id": "tXZDLmwCOnN_",
        "colab_type": "code",
        "colab": {}
      },
      "source": [
        "from nltk.corpus import gutenberg"
      ],
      "execution_count": 0,
      "outputs": []
    },
    {
      "cell_type": "markdown",
      "metadata": {
        "id": "gIHFDdGERhkF",
        "colab_type": "text"
      },
      "source": [
        "## Looking up all the available texts"
      ]
    },
    {
      "cell_type": "code",
      "metadata": {
        "id": "sLdcpkLXOoZ5",
        "colab_type": "code",
        "colab": {
          "base_uri": "https://localhost:8080/",
          "height": 323
        },
        "outputId": "5086c2fa-70ee-4b2b-e05a-86d8c4ac9ffd"
      },
      "source": [
        "gutenberg.fileids()"
      ],
      "execution_count": 7,
      "outputs": [
        {
          "output_type": "execute_result",
          "data": {
            "text/plain": [
              "['austen-emma.txt',\n",
              " 'austen-persuasion.txt',\n",
              " 'austen-sense.txt',\n",
              " 'bible-kjv.txt',\n",
              " 'blake-poems.txt',\n",
              " 'bryant-stories.txt',\n",
              " 'burgess-busterbrown.txt',\n",
              " 'carroll-alice.txt',\n",
              " 'chesterton-ball.txt',\n",
              " 'chesterton-brown.txt',\n",
              " 'chesterton-thursday.txt',\n",
              " 'edgeworth-parents.txt',\n",
              " 'melville-moby_dick.txt',\n",
              " 'milton-paradise.txt',\n",
              " 'shakespeare-caesar.txt',\n",
              " 'shakespeare-hamlet.txt',\n",
              " 'shakespeare-macbeth.txt',\n",
              " 'whitman-leaves.txt']"
            ]
          },
          "metadata": {
            "tags": []
          },
          "execution_count": 7
        }
      ]
    },
    {
      "cell_type": "markdown",
      "metadata": {
        "id": "8VZC--ywRmMM",
        "colab_type": "text"
      },
      "source": [
        "## Lets focus on Hamlet! \n",
        "## What are all the words (tokens is a generic term, as it encompasses everything that makes the text, including, words)"
      ]
    },
    {
      "cell_type": "code",
      "metadata": {
        "id": "Kla3uLEiQiMQ",
        "colab_type": "code",
        "colab": {}
      },
      "source": [
        "tokensFromCorpus=gutenberg.words(fileids='shakespeare-hamlet.txt')"
      ],
      "execution_count": 0,
      "outputs": []
    },
    {
      "cell_type": "markdown",
      "metadata": {
        "id": "OSswKI-2Ryw3",
        "colab_type": "text"
      },
      "source": [
        "## Total number of words used"
      ]
    },
    {
      "cell_type": "code",
      "metadata": {
        "id": "wxzcPlC5QcPa",
        "colab_type": "code",
        "colab": {
          "base_uri": "https://localhost:8080/",
          "height": 34
        },
        "outputId": "bf48da92-83b4-423a-e7ef-001b7356f93b"
      },
      "source": [
        "len(tokensFromCorpus)"
      ],
      "execution_count": 9,
      "outputs": [
        {
          "output_type": "execute_result",
          "data": {
            "text/plain": [
              "37360"
            ]
          },
          "metadata": {
            "tags": []
          },
          "execution_count": 9
        }
      ]
    },
    {
      "cell_type": "markdown",
      "metadata": {
        "id": "DPO0k5BsSAtM",
        "colab_type": "text"
      },
      "source": [
        "## What about the distinct number of words?"
      ]
    },
    {
      "cell_type": "code",
      "metadata": {
        "id": "jGRTkZmJSE8l",
        "colab_type": "code",
        "colab": {
          "base_uri": "https://localhost:8080/",
          "height": 34
        },
        "outputId": "3ed7183e-5015-46ab-8de1-057a0bcf19f7"
      },
      "source": [
        "len(set(tokensFromCorpus))"
      ],
      "execution_count": 10,
      "outputs": [
        {
          "output_type": "execute_result",
          "data": {
            "text/plain": [
              "5447"
            ]
          },
          "metadata": {
            "tags": []
          },
          "execution_count": 10
        }
      ]
    },
    {
      "cell_type": "markdown",
      "metadata": {
        "id": "OBsP6xgmSlTH",
        "colab_type": "text"
      },
      "source": [
        "## Curious about how often the author uses the same words?"
      ]
    },
    {
      "cell_type": "code",
      "metadata": {
        "id": "w2b7A-4FSyAl",
        "colab_type": "code",
        "colab": {
          "base_uri": "https://localhost:8080/",
          "height": 34
        },
        "outputId": "e12cb94e-088a-4958-fa14-1631c1a78487"
      },
      "source": [
        "len(set(tokensFromCorpus))/len(tokensFromCorpus)"
      ],
      "execution_count": 11,
      "outputs": [
        {
          "output_type": "execute_result",
          "data": {
            "text/plain": [
              "0.14579764453961455"
            ]
          },
          "metadata": {
            "tags": []
          },
          "execution_count": 11
        }
      ]
    },
    {
      "cell_type": "markdown",
      "metadata": {
        "id": "a4arxIb4S__n",
        "colab_type": "text"
      },
      "source": [
        "## Curious about how many times the word 'Hamlet' is used in the book 'Hamlet'?"
      ]
    },
    {
      "cell_type": "code",
      "metadata": {
        "id": "wGK1UKhMTP_S",
        "colab_type": "code",
        "colab": {
          "base_uri": "https://localhost:8080/",
          "height": 34
        },
        "outputId": "0eceb561-ce3b-4223-aa98-3cc6800013a8"
      },
      "source": [
        "tokensFromCorpus.count('Hamlet')"
      ],
      "execution_count": 13,
      "outputs": [
        {
          "output_type": "execute_result",
          "data": {
            "text/plain": [
              "99"
            ]
          },
          "metadata": {
            "tags": []
          },
          "execution_count": 13
        }
      ]
    },
    {
      "cell_type": "markdown",
      "metadata": {
        "id": "BBMJiTucWDtr",
        "colab_type": "text"
      },
      "source": [
        "## What could be the frequecy distribution of the words? What are the most common words? Where does a word most often occur in the entire book? Frequency dist comes to rescue:"
      ]
    },
    {
      "cell_type": "code",
      "metadata": {
        "id": "YchHwC4KWPf_",
        "colab_type": "code",
        "colab": {}
      },
      "source": [
        "from nltk.probability import FreqDist\n",
        "\n",
        "fdist1 = FreqDist(tokensFromCorpus)"
      ],
      "execution_count": 0,
      "outputs": []
    },
    {
      "cell_type": "code",
      "metadata": {
        "id": "pSrTZZkTWkvW",
        "colab_type": "code",
        "colab": {
          "base_uri": "https://localhost:8080/",
          "height": 867
        },
        "outputId": "4893728a-187e-437a-fb4c-e2f2c485e69a"
      },
      "source": [
        "fdist1.most_common(50)"
      ],
      "execution_count": 17,
      "outputs": [
        {
          "output_type": "execute_result",
          "data": {
            "text/plain": [
              "[(',', 2892),\n",
              " ('.', 1886),\n",
              " ('the', 860),\n",
              " (\"'\", 729),\n",
              " ('and', 606),\n",
              " ('of', 576),\n",
              " ('to', 576),\n",
              " (':', 565),\n",
              " ('I', 553),\n",
              " ('you', 479),\n",
              " ('?', 459),\n",
              " ('a', 449),\n",
              " ('my', 435),\n",
              " ('in', 359),\n",
              " ('it', 354),\n",
              " ('Ham', 337),\n",
              " ('is', 304),\n",
              " (';', 298),\n",
              " ('not', 286),\n",
              " ('his', 266),\n",
              " ('And', 257),\n",
              " ('that', 257),\n",
              " ('your', 233),\n",
              " ('this', 232),\n",
              " ('me', 227),\n",
              " ('d', 223),\n",
              " ('with', 212),\n",
              " ('Lord', 211),\n",
              " ('him', 178),\n",
              " ('be', 176),\n",
              " ('King', 172),\n",
              " ('for', 169),\n",
              " ('haue', 161),\n",
              " ('he', 160),\n",
              " ('but', 146),\n",
              " ('so', 145),\n",
              " ('as', 142),\n",
              " ('The', 133),\n",
              " ('will', 131),\n",
              " ('on', 123),\n",
              " ('s', 122),\n",
              " ('That', 120),\n",
              " ('our', 118),\n",
              " ('-', 117),\n",
              " ('what', 116),\n",
              " ('are', 113),\n",
              " ('To', 109),\n",
              " ('shall', 104),\n",
              " ('But', 103),\n",
              " ('Hamlet', 99)]"
            ]
          },
          "metadata": {
            "tags": []
          },
          "execution_count": 17
        }
      ]
    },
    {
      "cell_type": "markdown",
      "metadata": {
        "id": "jtsrdqv1TelR",
        "colab_type": "text"
      },
      "source": [
        "## Lets extend the curiosity to the sentences...the number of sentences in Hamlet..\n",
        "\n"
      ]
    },
    {
      "cell_type": "code",
      "metadata": {
        "id": "UqjMho3pQmFz",
        "colab_type": "code",
        "colab": {
          "base_uri": "https://localhost:8080/",
          "height": 34
        },
        "outputId": "f9842c44-d010-40c7-daef-2e13204ac8f4"
      },
      "source": [
        "hamlet_sentences = gutenberg.sents(fileids=\"shakespeare-hamlet.txt\")\n",
        "len(hamlet_sentences)\n"
      ],
      "execution_count": 31,
      "outputs": [
        {
          "output_type": "execute_result",
          "data": {
            "text/plain": [
              "3106"
            ]
          },
          "metadata": {
            "tags": []
          },
          "execution_count": 31
        }
      ]
    },
    {
      "cell_type": "markdown",
      "metadata": {
        "id": "BVT_S2kCTtCR",
        "colab_type": "text"
      },
      "source": [
        "## Length of each sentence"
      ]
    },
    {
      "cell_type": "code",
      "metadata": {
        "id": "kdxUSpOFTxMf",
        "colab_type": "code",
        "colab": {
          "base_uri": "https://localhost:8080/",
          "height": 54
        },
        "outputId": "e6463a31-4f3b-4072-a660-cc2153f049cc"
      },
      "source": [
        "sent_len = [len(_) for _ in hamlet_sentences]\n",
        "print(sent_len)\n"
      ],
      "execution_count": 23,
      "outputs": [
        {
          "output_type": "stream",
          "text": [
            "[10, 3, 3, 7, 2, 5, 2, 9, 2, 4, 2, 2, 2, 1, 2, 7, 2, 11, 2, 17, 2, 6, 2, 4, 2, 4, 19, 5, 2, 6, 7, 2, 4, 2, 7, 2, 4, 2, 12, 2, 11, 3, 2, 2, 2, 7, 2, 4, 2, 6, 2, 13, 2, 4, 2, 62, 2, 8, 2, 29, 2, 14, 2, 42, 2, 10, 5, 2, 12, 2, 9, 2, 7, 3, 2, 12, 5, 2, 3, 2, 36, 2, 3, 2, 5, 2, 12, 4, 2, 8, 2, 4, 14, 7, 2, 19, 2, 7, 2, 44, 3, 2, 21, 2, 29, 2, 96, 2, 56, 113, 124, 4, 21, 18, 26, 18, 37, 5, 3, 2, 9, 2, 7, 2, 3, 2, 3, 2, 4, 3, 32, 2, 10, 2, 14, 60, 11, 2, 9, 70, 2, 12, 45, 36, 2, 20, 2, 3, 24, 2, 63, 86, 79, 5, 5, 17, 32, 72, 2, 12, 2, 8, 5, 12, 7, 6, 14, 19, 28, 8, 2, 58, 2, 6, 4, 2, 14, 2, 30, 2, 10, 2, 11, 2, 14, 2, 19, 37, 2, 6, 2, 11, 2, 3, 72, 35, 2, 53, 14, 64, 56, 58, 46, 2, 19, 2, 9, 2, 18, 56, 3, 2, 3, 2, 36, 6, 19, 5, 26, 56, 33, 15, 25, 6, 4, 35, 4, 20, 25, 12, 8, 2, 4, 2, 16, 2, 10, 2, 20, 1, 2, 3, 2, 12, 9, 2, 7, 2, 30, 15, 12, 2, 10, 2, 20, 2, 8, 2, 36, 9, 2, 5, 2, 9, 10, 2, 20, 2, 9, 2, 2, 2, 2, 7, 2, 5, 2, 26, 2, 6, 2, 28, 73, 47, 11, 2, 5, 2, 8, 2, 7, 2, 61, 2, 3, 2, 27, 2, 10, 7, 2, 4, 2, 7, 2, 6, 2, 5, 2, 7, 2, 7, 2, 11, 2, 6, 2, 8, 2, 5, 2, 3, 2, 7, 2, 2, 2, 6, 2, 8, 2, 10, 2, 9, 2, 3, 2, 6, 2, 5, 1, 2, 17, 2, 10, 2, 5, 2, 26, 60, 2, 6, 1, 2, 10, 6, 39, 2, 2, 5, 2, 33, 2, 5, 2, 43, 2, 2, 4, 2, 36, 74, 24, 46, 34, 28, 59, 20, 2, 61, 2, 6, 3, 25, 2, 4, 40, 66, 22, 49, 22, 27, 32, 8, 2, 10, 2, 10, 2, 12, 2, 16, 2, 2, 3, 2, 9, 2, 11, 1, 2, 34, 43, 11, 2, 15, 2, 4, 13, 11, 2, 12, 2, 26, 28, 2, 15, 2, 13, 2, 17, 2, 7, 50, 27, 30, 45, 49, 2, 6, 2, 7, 2, 10, 2, 8, 2, 4, 2, 6, 2, 5, 2, 22, 7, 2, 43, 2, 5, 2, 37, 3, 2, 6, 2, 56, 71, 5, 21, 29, 2, 5, 4, 2, 19, 2, 20, 2, 5, 2, 10, 2, 4, 2, 8, 23, 17, 2, 11, 45, 2, 11, 2, 6, 2, 4, 2, 9, 2, 29, 30, 2, 4, 2, 5, 2, 13, 2, 10, 2, 8, 2, 4, 2, 8, 2, 5, 2, 6, 6, 2, 2, 2, 2, 2, 18, 2, 3, 2, 14, 2, 7, 2, 10, 2, 2, 2, 48, 99, 2, 3, 2, 7, 2, 2, 2, 20, 2, 27, 2, 36, 60, 2, 8, 2, 17, 15, 69, 46, 141, 90, 43, 34, 2, 2, 7, 6, 6, 26, 19, 68, 9, 65, 2, 3, 2, 6, 5, 2, 2, 2, 3, 2, 3, 2, 8, 2, 12, 2, 6, 2, 6, 2, 3, 2, 5, 2, 6, 2, 8, 2, 5, 2, 13, 7, 2, 9, 2, 17, 2, 16, 2, 71, 2, 10, 2, 13, 2, 7, 2, 53, 19, 2, 7, 2, 2, 9, 2, 6, 2, 6, 2, 6, 2, 7, 2, 3, 2, 6, 2, 7, 2, 2, 6, 2, 8, 5, 12, 2, 5, 2, 10, 4, 2, 1, 2, 4, 35, 2, 1, 2, 17, 9, 2, 10, 2, 9, 21, 129, 2, 1, 2, 85, 9, 2, 3, 6, 2, 9, 2, 4, 2, 19, 2, 7, 2, 9, 89, 6, 2, 6, 2, 79, 2, 4, 2, 13, 5, 2, 6, 2, 72, 2, 4, 2, 6, 2, 8, 2, 60, 36, 12, 2, 4, 2, 7, 10, 11, 2, 14, 2, 15, 71, 59, 2, 4, 2, 7, 2, 3, 2, 6, 2, 4, 2, 6, 2, 5, 2, 3, 2, 12, 2, 9, 2, 9, 2, 81, 2, 5, 2, 14, 2, 4, 2, 50, 52, 50, 2, 48, 15, 2, 25, 2, 6, 15, 49, 29, 2, 3, 12, 2, 6, 25, 28, 29, 73, 2, 30, 47, 2, 24, 2, 28, 2, 6, 2, 6, 13, 12, 2, 13, 2, 2, 2, 3, 2, 15, 2, 9, 2, 6, 68, 2, 11, 2, 18, 2, 12, 20, 2, 24, 8, 2, 7, 13, 2, 9, 104, 70, 2, 26, 13, 13, 4, 3, 2, 7, 43, 24, 30, 4, 2, 6, 2, 48, 48, 36, 3, 14, 29, 2, 6, 2, 10, 30, 33, 2, 15, 36, 2, 10, 2, 7, 2, 8, 2, 6, 6, 78, 74, 48, 2, 7, 2, 5, 2, 31, 2, 4, 2, 31, 2, 7, 2, 13, 2, 6, 2, 54, 2, 5, 7, 2, 9, 2, 14, 5, 5, 7, 2, 7, 2, 8, 2, 10, 2, 4, 2, 9, 2, 5, 2, 23, 2, 8, 2, 22, 2, 4, 2, 21, 5, 2, 6, 46, 6, 7, 2, 5, 2, 8, 2, 3, 2, 9, 2, 50, 47, 2, 23, 2, 4, 2, 19, 23, 19, 13, 2, 23, 2, 5, 2, 4, 2, 12, 5, 2, 4, 2, 6, 2, 5, 2, 5, 7, 12, 2, 7, 2, 21, 2, 7, 2, 3, 2, 15, 2, 6, 2, 7, 10, 6, 2, 12, 2, 12, 29, 2, 5, 2, 5, 2, 5, 2, 24, 2, 6, 2, 29, 2, 15, 2, 29, 2, 21, 2, 8, 2, 21, 2, 34, 2, 6, 2, 4, 42, 2, 9, 2, 35, 6, 6, 13, 2, 7, 2, 4, 41, 2, 6, 2, 63, 2, 4, 2, 16, 2, 7, 2, 117, 9, 5, 5, 9, 8, 8, 23, 20, 2, 11, 2, 14, 2, 39, 2, 84, 2, 14, 2, 6, 11, 2, 13, 2, 15, 7, 2, 6, 2, 4, 5, 2, 79, 2, 5, 5, 5, 12, 40, 2, 27, 24, 2, 5, 2, 11, 2, 7, 2, 7, 5, 2, 43, 16, 5, 2, 4, 2, 23, 33, 16, 2, 6, 2, 24, 3, 2, 5, 2, 29, 2, 22, 2, 4, 9, 16, 2, 9, 2, 10, 9, 7, 2, 3, 2, 3, 2, 10, 44, 21, 5, 2, 14, 2, 9, 2, 15, 2, 4, 2, 11, 2, 17, 2, 4, 2, 7, 2, 37, 7, 6, 9, 12, 5, 20, 8, 20, 19, 35, 14, 4, 6, 2, 90, 43, 32, 29, 127, 2, 16, 4, 11, 47, 28, 48, 43, 46, 48, 2, 4, 2, 11, 21, 6, 4, 11, 2, 4, 2, 9, 4, 52, 25, 59, 2, 23, 4, 2, 14, 14, 24, 19, 2, 11, 2, 6, 22, 13, 3, 2, 3, 3, 2, 13, 15, 2, 3, 2, 10, 27, 4, 2, 3, 2, 3, 11, 15, 2, 4, 2, 3, 2, 13, 10, 69, 5, 3, 19, 18, 43, 52, 5, 5, 7, 12, 8, 17, 5, 2, 60, 3, 2, 6, 49, 3, 7, 4, 38, 16, 18, 21, 50, 24, 1, 16, 2, 31, 2, 18, 2, 31, 2, 6, 2, 4, 2, 7, 2, 13, 2, 8, 2, 61, 2, 22, 2, 19, 17, 2, 5, 2, 2, 29, 51, 5, 2, 45, 2, 6, 2, 6, 26, 34, 2, 16, 31, 4, 2, 12, 2, 3, 2, 79, 11, 48, 73, 58, 52, 8, 10, 2, 14, 2, 10, 2, 19, 7, 2, 9, 2, 55, 3, 2, 8, 2, 2, 2, 4, 2, 5, 2, 17, 2, 12, 2, 33, 14, 5, 2, 9, 2, 7, 16, 4, 2, 5, 2, 6, 11, 28, 38, 14, 18, 6, 2, 5, 2, 24, 1, 2, 7, 2, 14, 18, 6, 4, 25, 9, 1, 2, 6, 2, 10, 37, 16, 10, 20, 6, 3, 2, 13, 48, 56, 19, 6, 2, 2, 27, 8, 38, 48, 7, 2, 5, 17, 4, 16, 56, 20, 2, 17, 2, 11, 2, 97, 78, 4, 2, 4, 2, 15, 98, 46, 76, 2, 13, 2, 5, 18, 59, 5, 3, 8, 14, 2, 8, 2, 6, 3, 8, 2, 5, 2, 3, 2, 5, 2, 7, 2, 17, 2, 4, 2, 32, 9, 26, 31, 14, 15, 26, 7, 21, 13, 6, 11, 19, 60, 29, 2, 4, 23, 23, 3, 4, 2, 12, 4, 2, 6, 2, 23, 2, 13, 2, 5, 16, 2, 12, 2, 6, 2, 22, 2, 16, 5, 2, 9, 2, 9, 2, 10, 2, 8, 2, 9, 2, 3, 2, 9, 2, 3, 2, 8, 2, 6, 2, 13, 5, 2, 1, 2, 7, 2, 3, 2, 3, 2, 19, 18, 2, 10, 2, 3, 16, 3, 10, 61, 3, 5, 14, 11, 13, 9, 10, 25, 14, 19, 31, 2, 2, 7, 2, 9, 2, 10, 2, 18, 2, 9, 2, 12, 20, 2, 13, 3, 19, 2, 12, 2, 5, 2, 4, 6, 2, 52, 2, 21, 85, 2, 45, 7, 37, 2, 3, 2, 18, 17, 2, 5, 51, 38, 34, 22, 21, 57, 37, 9, 11, 2, 61, 2, 6, 2, 28, 2, 5, 1, 8, 1, 2, 8, 2, 7, 2, 8, 2, 14, 2, 20, 2, 7, 2, 8, 43, 28, 3, 8, 2, 8, 2, 16, 2, 9, 2, 12, 2, 4, 2, 5, 3, 10, 9, 2, 56, 7, 2, 29, 15, 2, 3, 2, 6, 2, 5, 2, 6, 2, 5, 1, 2, 6, 2, 5, 2, 29, 43, 2, 3, 2, 27, 4, 2, 6, 2, 14, 5, 2, 4, 2, 7, 2, 7, 5, 2, 4, 4, 22, 3, 2, 10, 2, 5, 2, 4, 2, 7, 2, 9, 2, 4, 2, 7, 2, 34, 2, 18, 2, 6, 2, 17, 2, 3, 2, 15, 37, 2, 4, 2, 5, 2, 12, 30, 4, 2, 15, 2, 11, 13, 2, 15, 2, 11, 8, 2, 8, 2, 10, 2, 11, 19, 2, 4, 2, 21, 2, 14, 6, 4, 31, 2, 16, 2, 7, 7, 2, 5, 2, 3, 2, 5, 2, 4, 2, 9, 2, 31, 7, 2, 16, 2, 74, 18, 19, 5, 3, 2, 12, 2, 6, 9, 2, 14, 2, 7, 2, 8, 2, 5, 2, 4, 2, 22, 6, 2, 5, 2, 2, 8, 29, 21, 56, 19, 8, 2, 18, 40, 2, 27, 2, 65, 14, 34, 12, 2, 27, 2, 5, 2, 2, 3, 2, 24, 48, 22, 2, 5, 25, 75, 12, 32, 10, 12, 25, 24, 75, 3, 3, 5, 5, 10, 4, 7, 49, 3, 2, 63, 10, 78, 2, 83, 12, 2, 2, 19, 2, 5, 2, 42, 14, 2, 2, 5, 2, 8, 7, 3, 2, 9, 2, 8, 2, 8, 2, 10, 2, 10, 2, 5, 2, 5, 2, 5, 2, 25, 4, 2, 11, 2, 35, 2, 5, 6, 5, 2, 8, 2, 6, 6, 2, 5, 2, 2, 8, 2, 10, 2, 11, 2, 20, 2, 5, 2, 8, 33, 50, 2, 21, 2, 35, 9, 25, 27, 2, 16, 2, 88, 5, 6, 16, 4, 16, 2, 4, 43, 16, 3, 5, 22, 7, 26, 2, 7, 27, 2, 28, 2, 17, 4, 2, 22, 14, 16, 2, 3, 3, 2, 7, 16, 6, 2, 5, 2, 31, 2, 2, 15, 27, 4, 2, 7, 2, 9, 17, 37, 16, 5, 2, 30, 33, 2, 7, 2, 6, 2, 10, 2, 6, 2, 6, 2, 32, 2, 2, 17, 2, 2, 15, 29, 48, 33, 37, 2, 10, 2, 18, 38, 19, 38, 21, 17, 2, 5, 2, 76, 85, 2, 30, 2, 9, 2, 10, 2, 19, 25, 11, 4, 6, 3, 2, 8, 13, 5, 2, 12, 2, 3, 6, 2, 53, 2, 36, 10, 28, 43, 5, 2, 30, 6, 2, 41, 3, 3, 32, 16, 7, 3, 30, 13, 2, 3, 2, 2, 3, 4, 2, 3, 5, 5, 3, 3, 2, 11, 2, 9, 2, 19, 2, 4, 2, 3, 2, 12, 20, 2, 10, 2, 28, 45, 2, 6, 2, 14, 2, 19, 2, 16, 9, 5, 2, 15, 2, 3, 2, 107, 3, 3, 4, 2, 16, 2, 5, 2, 9, 2, 4, 2, 4, 5, 5, 2, 8, 2, 2, 2, 3, 2, 2, 23, 9, 17, 24, 2, 7, 2, 18, 2, 3, 2, 8, 42, 2, 4, 2, 6, 37, 28, 2, 3, 2, 2, 2, 1, 2, 11, 2, 16, 3, 2, 4, 2, 23, 5, 1, 2, 22, 24, 68, 40, 1, 6, 2, 31, 28, 2, 8, 2, 4, 2, 5, 2, 6, 2, 13, 2, 5, 2, 108, 2, 19, 5, 42, 4, 2, 7, 2, 4, 2, 11, 11, 2, 9, 2, 3, 5, 28, 3, 2, 3, 2, 4, 9, 2, 6, 2, 19, 2, 7, 2, 8, 9, 16, 5, 2, 4, 2, 31, 22, 31, 2, 2, 2, 3, 9, 9, 30, 32, 2, 7, 2, 7, 42, 16, 2, 2, 29, 19, 53, 23, 64, 21, 4, 4, 2, 7, 2, 5, 6, 5, 2, 7, 69, 25, 2, 18, 3, 3, 2, 4, 2, 7, 4, 2, 7, 2, 6, 2, 5, 2, 8, 9, 2, 3, 2, 31, 2, 15, 37, 10, 5, 2, 2, 6, 2, 1, 2, 4, 2, 5, 2, 5, 8, 11, 9, 35, 2, 5, 2, 25, 2, 37, 2, 4, 2, 5, 2, 28, 2, 14, 35, 4, 5, 3, 2, 3, 5, 22, 18, 37, 25, 2, 34, 2, 19, 2, 18, 8, 10, 2, 5, 2, 11, 14, 2, 9, 2, 25, 20, 41, 2, 19, 2, 35, 32, 10, 4, 2, 1, 2, 8, 2, 78, 27, 2, 54, 2, 17, 7, 2, 7, 2, 9, 2, 10, 2, 26, 3, 2, 4, 2, 5, 2, 10, 36, 4, 26, 19, 15, 25, 18, 10, 25, 27, 10, 10, 11, 8, 32, 2, 5, 2, 42, 2, 4, 40, 2, 25, 57, 49, 30, 2, 38, 5, 2, 40, 33, 3, 3, 2, 15, 2, 3, 4, 2, 23, 2, 9, 2, 15, 12, 23, 2, 5, 7, 6, 5, 2, 5, 2, 20, 2, 37, 2, 24, 2, 13, 2, 174, 2, 6, 2, 2, 2, 4, 2, 3, 2, 17, 2, 49, 35, 2, 8, 2, 8, 16, 2, 5, 2, 62, 2, 9, 2, 94, 30, 2, 6, 81, 2, 150, 3, 2, 23, 2, 4, 3, 2, 170, 2, 9, 2, 7, 2, 68, 2, 2, 18, 16, 2, 4, 2, 16, 2, 25, 2, 15, 2, 5, 2, 36, 18, 2, 6, 2, 43, 16, 17, 2, 5, 2, 9, 2, 26, 2, 7, 25, 25, 2, 5, 2, 8, 2, 4, 2, 8, 7, 14, 22, 2, 2, 18, 2, 11, 2, 20, 35, 6, 2, 14, 2, 8, 2, 6, 2, 3, 2, 6, 8, 2, 61, 2, 34, 2, 19, 2, 10, 2, 16, 3, 28, 2, 64, 2, 5, 2, 21, 31, 2, 4, 2, 40, 18, 7, 3, 32, 2, 16, 6, 3, 3, 7, 32, 2, 56, 27, 22, 2, 2, 7, 2, 9, 2, 10, 2, 12, 14, 2, 19, 2, 13, 2, 32, 2, 32, 2, 15, 2, 8, 2, 4, 2, 4, 2, 3, 2, 9, 2, 16, 2, 6, 55, 10, 2, 26, 2, 6, 2, 5, 27, 2, 10, 2, 27, 2, 2, 2, 16, 2, 5, 2, 4, 2, 3, 2, 8, 2, 4, 2, 16, 2, 15, 2, 40, 7, 2, 7, 2, 24, 14, 17, 2, 4, 2, 14, 2, 5, 2, 22, 17, 2, 2, 2, 4, 2, 4, 44, 15, 6, 3, 3, 15, 9, 3, 26, 12, 2, 7, 2, 15, 2, 4, 2, 4, 1, 2, 7, 2, 9, 18, 2, 10, 2, 7, 18, 43, 21, 25, 13, 15, 6, 12, 25, 7, 2, 4, 2, 10, 2, 4, 2, 10, 39, 38, 2, 7, 2, 30, 2, 20, 20, 2, 6, 2, 7, 37, 2, 27, 18, 5, 37, 2, 11, 19, 7, 2, 5, 2, 40, 3, 2, 3, 2, 3, 7, 2, 10, 7, 2, 7, 2, 24, 7, 2, 8, 6, 2, 9, 5, 5, 7, 11, 5, 16, 11, 33, 14, 2, 38, 2, 14, 33, 2, 2, 64, 2, 4, 2, 19, 2, 5, 2, 82, 2, 4, 2, 125, 2, 3, 2, 22, 2, 3, 2, 23, 61, 2, 5, 2, 83, 2, 7, 2, 82, 2, 9, 2, 46, 2, 8, 2, 65, 21, 2, 17, 2, 74, 2, 6, 4, 2, 8, 2, 11, 2, 4, 2, 57, 2, 20, 2, 23, 2, 9, 2, 13, 2, 7, 2, 12, 2, 49, 2, 4, 2, 27, 2, 6, 2, 3, 2, 10, 2, 70, 2, 6, 2, 7, 2, 68, 2, 46, 2, 6, 2, 12, 2, 66, 2, 9, 2, 11, 2, 7, 2, 21, 2, 10, 2, 78, 2, 8, 2, 43, 2, 5, 2, 21, 2, 9, 13, 2, 21, 51, 8, 27, 2, 11, 2, 23, 18, 30, 3, 37, 3, 24, 42, 2, 19, 41, 21, 2, 14, 7, 2, 4, 2, 27, 2, 4, 2, 4, 2, 14, 2, 17, 2, 24, 2, 9, 2, 12, 4, 2, 4, 2, 69, 39, 12, 2, 3, 2, 4, 3, 2, 1, 2, 1, 2, 1, 2, 7, 2, 3, 2, 6, 14, 5, 8, 2, 12, 9, 2, 9, 2, 4, 2, 10, 18, 2, 2, 2, 5, 2, 10, 2, 12, 2, 10, 2, 7, 2, 7, 2, 6, 2, 9, 2, 5, 26, 2, 4, 3, 2, 2, 3, 2, 5, 6, 2, 8, 2, 4, 2, 6, 2, 6, 7, 2, 6, 2, 20, 2, 5, 2, 6, 2, 10, 16, 2, 3, 2, 8, 5, 2, 5, 16, 38, 31, 2, 13, 4, 2, 3, 2, 10, 2, 19, 4, 3, 2, 7, 33, 2, 2, 11, 54, 25, 2, 4, 17, 2, 12, 10, 20, 34, 8, 6, 3, 2, 21, 2, 58, 5, 8, 1, 2, 29, 14, 2, 5, 2, 18, 2, 6, 13, 14, 2, 50, 2, 26, 23, 32, 48, 6, 2, 15, 34, 47, 2, 49, 20, 7, 2, 14, 2, 9]\n"
          ],
          "name": "stdout"
        }
      ]
    },
    {
      "cell_type": "markdown",
      "metadata": {
        "id": "V7NotyCEUDJP",
        "colab_type": "text"
      },
      "source": [
        "## Lets find the longest sentence...and of course print it out.."
      ]
    },
    {
      "cell_type": "markdown",
      "metadata": {
        "id": "W80k_C9FVVJh",
        "colab_type": "text"
      },
      "source": [
        "** Lets map the length of sentence with the sentence itself and print out the sentence with max key **"
      ]
    },
    {
      "cell_type": "code",
      "metadata": {
        "id": "Va_QeYNoTqP1",
        "colab_type": "code",
        "colab": {}
      },
      "source": [
        "sentDictionary={len(sent):sent for i,sent in enumerate(hamlet_sentences)}"
      ],
      "execution_count": 0,
      "outputs": []
    },
    {
      "cell_type": "code",
      "metadata": {
        "id": "iloMvHUIVK9J",
        "colab_type": "code",
        "colab": {}
      },
      "source": [
        "sentDictionary.keys()\n",
        "maxKey=max(sentDictionary.keys())"
      ],
      "execution_count": 0,
      "outputs": []
    },
    {
      "cell_type": "code",
      "metadata": {
        "id": "zNlxbpu9Undj",
        "colab_type": "code",
        "colab": {
          "base_uri": "https://localhost:8080/",
          "height": 2975
        },
        "outputId": "18f2dbb3-7685-40d0-c7a7-2ddd12af28cf"
      },
      "source": [
        "sentDictionary[maxKey]"
      ],
      "execution_count": 35,
      "outputs": [
        {
          "output_type": "execute_result",
          "data": {
            "text/plain": [
              "['To',\n",
              " 'thine',\n",
              " 'owne',\n",
              " 'peace',\n",
              " ':',\n",
              " 'if',\n",
              " 'he',\n",
              " 'be',\n",
              " 'now',\n",
              " 'return',\n",
              " \"'\",\n",
              " 'd',\n",
              " ',',\n",
              " 'As',\n",
              " 'checking',\n",
              " 'at',\n",
              " 'his',\n",
              " 'Voyage',\n",
              " ',',\n",
              " 'and',\n",
              " 'that',\n",
              " 'he',\n",
              " 'meanes',\n",
              " 'No',\n",
              " 'more',\n",
              " 'to',\n",
              " 'vndertake',\n",
              " 'it',\n",
              " ';',\n",
              " 'I',\n",
              " 'will',\n",
              " 'worke',\n",
              " 'him',\n",
              " 'To',\n",
              " 'an',\n",
              " 'exployt',\n",
              " 'now',\n",
              " 'ripe',\n",
              " 'in',\n",
              " 'my',\n",
              " 'Deuice',\n",
              " ',',\n",
              " 'Vnder',\n",
              " 'the',\n",
              " 'which',\n",
              " 'he',\n",
              " 'shall',\n",
              " 'not',\n",
              " 'choose',\n",
              " 'but',\n",
              " 'fall',\n",
              " ';',\n",
              " 'And',\n",
              " 'for',\n",
              " 'his',\n",
              " 'death',\n",
              " 'no',\n",
              " 'winde',\n",
              " 'of',\n",
              " 'blame',\n",
              " 'shall',\n",
              " 'breath',\n",
              " ',',\n",
              " 'But',\n",
              " 'euen',\n",
              " 'his',\n",
              " 'Mother',\n",
              " 'shall',\n",
              " 'vncharge',\n",
              " 'the',\n",
              " 'practice',\n",
              " ',',\n",
              " 'And',\n",
              " 'call',\n",
              " 'it',\n",
              " 'accident',\n",
              " ':',\n",
              " 'Some',\n",
              " 'two',\n",
              " 'Monthes',\n",
              " 'hence',\n",
              " 'Here',\n",
              " 'was',\n",
              " 'a',\n",
              " 'Gentleman',\n",
              " 'of',\n",
              " 'Normandy',\n",
              " ',',\n",
              " 'I',\n",
              " \"'\",\n",
              " 'ue',\n",
              " 'seene',\n",
              " 'my',\n",
              " 'selfe',\n",
              " ',',\n",
              " 'and',\n",
              " 'seru',\n",
              " \"'\",\n",
              " 'd',\n",
              " 'against',\n",
              " 'the',\n",
              " 'French',\n",
              " ',',\n",
              " 'And',\n",
              " 'they',\n",
              " 'ran',\n",
              " 'well',\n",
              " 'on',\n",
              " 'Horsebacke',\n",
              " ';',\n",
              " 'but',\n",
              " 'this',\n",
              " 'Gallant',\n",
              " 'Had',\n",
              " 'witchcraft',\n",
              " 'in',\n",
              " \"'\",\n",
              " 't',\n",
              " ';',\n",
              " 'he',\n",
              " 'grew',\n",
              " 'into',\n",
              " 'his',\n",
              " 'Seat',\n",
              " ',',\n",
              " 'And',\n",
              " 'to',\n",
              " 'such',\n",
              " 'wondrous',\n",
              " 'doing',\n",
              " 'brought',\n",
              " 'his',\n",
              " 'Horse',\n",
              " ',',\n",
              " 'As',\n",
              " 'had',\n",
              " 'he',\n",
              " 'beene',\n",
              " 'encorps',\n",
              " \"'\",\n",
              " 't',\n",
              " 'and',\n",
              " 'demy',\n",
              " '-',\n",
              " 'Natur',\n",
              " \"'\",\n",
              " 'd',\n",
              " 'With',\n",
              " 'the',\n",
              " 'braue',\n",
              " 'Beast',\n",
              " ',',\n",
              " 'so',\n",
              " 'farre',\n",
              " 'he',\n",
              " 'past',\n",
              " 'my',\n",
              " 'thought',\n",
              " ',',\n",
              " 'That',\n",
              " 'I',\n",
              " 'in',\n",
              " 'forgery',\n",
              " 'of',\n",
              " 'shapes',\n",
              " 'and',\n",
              " 'trickes',\n",
              " ',',\n",
              " 'Come',\n",
              " 'short',\n",
              " 'of',\n",
              " 'what',\n",
              " 'he',\n",
              " 'did']"
            ]
          },
          "metadata": {
            "tags": []
          },
          "execution_count": 35
        }
      ]
    },
    {
      "cell_type": "markdown",
      "metadata": {
        "id": "NyP-3lQ_U6Ab",
        "colab_type": "text"
      },
      "source": [
        "## ...and so on. As you can see, there are several other such possibilities. But most importantly you can actually put these analyses to good use, as they can be treated as handcrafted features!!"
      ]
    },
    {
      "cell_type": "markdown",
      "metadata": {
        "id": "YBjqgb8nfPzv",
        "colab_type": "text"
      },
      "source": [
        "## Practice Exercise (UNGRADED)"
      ]
    },
    {
      "cell_type": "markdown",
      "metadata": {
        "id": "XoqK6iPOfUYu",
        "colab_type": "text"
      },
      "source": [
        "** Plot the frequence distribution of sentence lengths as a Histogram ! **"
      ]
    },
    {
      "cell_type": "code",
      "metadata": {
        "id": "C-SXTW1Jis78",
        "colab_type": "code",
        "colab": {
          "base_uri": "https://localhost:8080/",
          "height": 289
        },
        "outputId": "f5e2db12-1c78-444a-e1ca-3144e89a36be"
      },
      "source": [
        "# Your code Here\n",
        "from collections import Counter\n",
        "import numpy as np\n",
        "import matplotlib.pyplot as plt\n",
        "\n",
        "#word_list = ['A', 'A', 'B', 'B', 'A', 'C', 'C', 'C', 'C']\n",
        "\n",
        "#counts = Counter(word_list)\n",
        "\n",
        "values, labels = zip(*sentDictionary.items())\n",
        "\n",
        "# sort your values in descending order\n",
        "indSort = np.argsort(values)[::-1]\n",
        "\n",
        "# rearrange your data\n",
        "labels = np.array(labels)[indSort]\n",
        "values = np.array(values)[indSort]\n",
        "\n",
        "indexes = np.arange(len(labels))\n",
        "\n",
        "bar_width = 0.35\n",
        "\n",
        "plt.bar(indexes, values)\n",
        "\n",
        "# add labels\n",
        "plt.xticks(indexes + bar_width, labels)\n",
        "plt.show()\n",
        "\n"
      ],
      "execution_count": 48,
      "outputs": [
        {
          "output_type": "display_data",
          "data": {
            "image/png": "[encoded data removed]",
            "text/plain": [
              "<Figure size 432x288 with 1 Axes>"
            ]
          },
          "metadata": {
            "tags": []
          }
        }
      ]
    },
    {
      "cell_type": "code",
      "metadata": {
        "id": "SKhZVYp9aLWc",
        "colab_type": "code",
        "colab": {}
      },
      "source": [
        ""
      ],
      "execution_count": 0,
      "outputs": []
    }
  ]
}